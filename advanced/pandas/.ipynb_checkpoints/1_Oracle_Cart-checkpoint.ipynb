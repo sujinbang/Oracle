{
 "cells": [
  {
   "cell_type": "markdown",
   "id": "4d26db55-cf41-4976-ab23-9b32727b0638",
   "metadata": {},
   "source": [
    "# Pandas Oracle 연동"
   ]
  },
  {
   "cell_type": "code",
   "execution_count": null,
   "id": "7e48dd5b-e1c9-45d8-9314-ac475316bd00",
   "metadata": {},
   "outputs": [],
   "source": [
    "# conda install -c conda-forge cx_Oracle\n",
    "# pip install cx_Oracle"
   ]
  },
  {
   "cell_type": "code",
   "execution_count": 9,
   "id": "e6d22df3-60c9-44c1-a34e-ad552d3b004e",
   "metadata": {},
   "outputs": [],
   "source": [
    "import cx_Oracle as ora\n",
    "import pandas as pd"
   ]
  },
  {
   "cell_type": "code",
   "execution_count": 24,
   "id": "ff067ee2-f294-4d72-825a-1a6478ad8732",
   "metadata": {},
   "outputs": [
    {
     "data": {
      "text/plain": [
       "[('CART_MEMBER', <cx_Oracle.DbType DB_TYPE_VARCHAR>, 15, 15, None, None, 0),\n",
       " ('CART_NO', <cx_Oracle.DbType DB_TYPE_CHAR>, 13, 13, None, None, 0),\n",
       " ('CART_PROD', <cx_Oracle.DbType DB_TYPE_VARCHAR>, 10, 10, None, None, 0),\n",
       " ('CART_QTY', <cx_Oracle.DbType DB_TYPE_NUMBER>, 9, None, 8, 0, 0)]"
      ]
     },
     "execution_count": 24,
     "metadata": {},
     "output_type": "execute_result"
    }
   ],
   "source": [
    "#1. dsn\n",
    "#2. conn\n",
    "ora.makedsn('localhost',1521, service_name='orcl')\n",
    "dsn = ora.makedsn('localhost', 1521, service_name = 'orcl')\n",
    "conn = ora.connect(user='busan_06', password='dbdb', dsn = dsn)\n",
    "\n",
    "#3. cursor\n",
    "cursor = conn.cursor() # 커서 생성\n",
    "sql = \"\"\" SELECT * FROM cart \"\"\"\n",
    "\n",
    "cursor.execute(sql)\n",
    "row = cursor.fetchall()\n",
    "\n",
    "colname = cursor.description\n",
    "colname\n",
    "\n",
    "# dsn 제외 close\n",
    "# 오픈 순서 반대로 close\n",
    "cursor.close() # 필수 !!\n",
    "conn.close() # 필수 !!"
   ]
  },
  {
   "cell_type": "code",
   "execution_count": 31,
   "id": "2e5e50d9-f3fa-472a-b5d8-cacfde750290",
   "metadata": {},
   "outputs": [
    {
     "data": {
      "text/plain": [
       "['CART_MEMBER', 'CART_NO', 'CART_PROD', 'CART_QTY']"
      ]
     },
     "execution_count": 31,
     "metadata": {},
     "output_type": "execute_result"
    }
   ],
   "source": [
    "# 컬럼 뽑아오기\n",
    "col=[]\n",
    "for i in range(0,4,1):\n",
    "    col.append(colname[i][0])\n",
    "col"
   ]
  },
  {
   "cell_type": "code",
   "execution_count": 33,
   "id": "fd571a93-5549-49f4-83dd-6d6e30ca0f2d",
   "metadata": {},
   "outputs": [
    {
     "data": {
      "text/html": [
       "<div>\n",
       "<style scoped>\n",
       "    .dataframe tbody tr th:only-of-type {\n",
       "        vertical-align: middle;\n",
       "    }\n",
       "\n",
       "    .dataframe tbody tr th {\n",
       "        vertical-align: top;\n",
       "    }\n",
       "\n",
       "    .dataframe thead th {\n",
       "        text-align: right;\n",
       "    }\n",
       "</style>\n",
       "<table border=\"1\" class=\"dataframe\">\n",
       "  <thead>\n",
       "    <tr style=\"text-align: right;\">\n",
       "      <th></th>\n",
       "      <th>CART_MEMBER</th>\n",
       "      <th>CART_NO</th>\n",
       "      <th>CART_PROD</th>\n",
       "      <th>CART_QTY</th>\n",
       "    </tr>\n",
       "  </thead>\n",
       "  <tbody>\n",
       "    <tr>\n",
       "      <th>0</th>\n",
       "      <td>a001</td>\n",
       "      <td>2005040100001</td>\n",
       "      <td>P101000001</td>\n",
       "      <td>5</td>\n",
       "    </tr>\n",
       "    <tr>\n",
       "      <th>1</th>\n",
       "      <td>a001</td>\n",
       "      <td>2005040100001</td>\n",
       "      <td>P201000018</td>\n",
       "      <td>16</td>\n",
       "    </tr>\n",
       "    <tr>\n",
       "      <th>2</th>\n",
       "      <td>a001</td>\n",
       "      <td>2005040100001</td>\n",
       "      <td>P302000003</td>\n",
       "      <td>7</td>\n",
       "    </tr>\n",
       "    <tr>\n",
       "      <th>3</th>\n",
       "      <td>t001</td>\n",
       "      <td>2005040100002</td>\n",
       "      <td>P302000004</td>\n",
       "      <td>2</td>\n",
       "    </tr>\n",
       "    <tr>\n",
       "      <th>4</th>\n",
       "      <td>t001</td>\n",
       "      <td>2005040100002</td>\n",
       "      <td>P101000002</td>\n",
       "      <td>2</td>\n",
       "    </tr>\n",
       "    <tr>\n",
       "      <th>...</th>\n",
       "      <td>...</td>\n",
       "      <td>...</td>\n",
       "      <td>...</td>\n",
       "      <td>...</td>\n",
       "    </tr>\n",
       "    <tr>\n",
       "      <th>202</th>\n",
       "      <td>c001</td>\n",
       "      <td>2005072800003</td>\n",
       "      <td>P201000015</td>\n",
       "      <td>2</td>\n",
       "    </tr>\n",
       "    <tr>\n",
       "      <th>203</th>\n",
       "      <td>b001</td>\n",
       "      <td>2005072800004</td>\n",
       "      <td>P302000001</td>\n",
       "      <td>6</td>\n",
       "    </tr>\n",
       "    <tr>\n",
       "      <th>204</th>\n",
       "      <td>b001</td>\n",
       "      <td>2005072800004</td>\n",
       "      <td>P201000016</td>\n",
       "      <td>15</td>\n",
       "    </tr>\n",
       "    <tr>\n",
       "      <th>205</th>\n",
       "      <td>b001</td>\n",
       "      <td>2005072800004</td>\n",
       "      <td>P302000002</td>\n",
       "      <td>2</td>\n",
       "    </tr>\n",
       "    <tr>\n",
       "      <th>206</th>\n",
       "      <td>b001</td>\n",
       "      <td>2005072800004</td>\n",
       "      <td>P201000017</td>\n",
       "      <td>2</td>\n",
       "    </tr>\n",
       "  </tbody>\n",
       "</table>\n",
       "<p>207 rows × 4 columns</p>\n",
       "</div>"
      ],
      "text/plain": [
       "    CART_MEMBER        CART_NO   CART_PROD  CART_QTY\n",
       "0          a001  2005040100001  P101000001         5\n",
       "1          a001  2005040100001  P201000018        16\n",
       "2          a001  2005040100001  P302000003         7\n",
       "3          t001  2005040100002  P302000004         2\n",
       "4          t001  2005040100002  P101000002         2\n",
       "..          ...            ...         ...       ...\n",
       "202        c001  2005072800003  P201000015         2\n",
       "203        b001  2005072800004  P302000001         6\n",
       "204        b001  2005072800004  P201000016        15\n",
       "205        b001  2005072800004  P302000002         2\n",
       "206        b001  2005072800004  P201000017         2\n",
       "\n",
       "[207 rows x 4 columns]"
      ]
     },
     "execution_count": 33,
     "metadata": {},
     "output_type": "execute_result"
    }
   ],
   "source": [
    "pd.DataFrame(row, columns=col)"
   ]
  },
  {
   "cell_type": "code",
   "execution_count": null,
   "id": "44a76bfc-ac7e-4d81-bced-930c75f20b28",
   "metadata": {},
   "outputs": [],
   "source": []
  }
 ],
 "metadata": {
  "kernelspec": {
   "display_name": "Python 3 (ipykernel)",
   "language": "python",
   "name": "python3"
  },
  "language_info": {
   "codemirror_mode": {
    "name": "ipython",
    "version": 3
   },
   "file_extension": ".py",
   "mimetype": "text/x-python",
   "name": "python",
   "nbconvert_exporter": "python",
   "pygments_lexer": "ipython3",
   "version": "3.9.12"
  }
 },
 "nbformat": 4,
 "nbformat_minor": 5
}
